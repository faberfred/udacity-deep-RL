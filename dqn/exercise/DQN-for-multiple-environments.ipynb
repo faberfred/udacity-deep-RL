{
 "cells": [
  {
   "cell_type": "markdown",
   "metadata": {},
   "source": [
    "# Deep Q-Network (DQN) and Double-DQN for multiple environment\n",
    "---\n",
    "Implementation of a DQN & Double-DQN agent with different OpenAI Gym environments.\n",
    "\n",
    "### 1. Import the Necessary Packages"
   ]
  },
  {
   "cell_type": "code",
   "execution_count": 1,
   "metadata": {},
   "outputs": [],
   "source": [
    "import gym\n",
    "import random\n",
    "import torch\n",
    "import numpy as np\n",
    "from collections import deque\n",
    "import matplotlib.pyplot as plt\n",
    "%matplotlib inline\n",
    "\n",
    "import time"
   ]
  },
  {
   "cell_type": "markdown",
   "metadata": {},
   "source": [
    "### 2. Instantiate the Environment and Agent\n",
    "\n",
    "Initialize the environment.  See [`LunarLander`](https://gym.openai.com/envs/LunarLander-v2/) and [`CS221`](https://stanford-cs221.github.io/autumn2019-extra/posters/113.pdf) for more detaisl.\n",
    "\n",
    "#### Some information about the environment from the gym homepage for LunarLander\n",
    "* The lander maneuvers by engaging thrusters (with a noisy outcome) and consuming fuel.\n",
    "* **State has 8 components**: horizontal and vertical position, horizontal and vertical velocity, angle and angular velocity, and left and right leg contact.\n",
    "* Control agent can take **four actions** (i) do nothing, (ii) fire main engine (push up), (iii) fire left engine (push right), and (iv) fire right engine (push left)\n",
    "* Vehicle starts from the top of the screen (with random initial velocity) and landing pad is always at coordinates (0,0)\n",
    "* Reward for moving from the top of the screen to landing pad and zero speed is about 100..140 points. If lander moves away from landing pad it loses reward back. Episode finishes if the lander crashes or comes to rest, receiving additional -100 or +100 points. Each leg ground contact is +10. Firing main engine is -0.3 points each frame. Firing side engine is -0.03 points each frame. Solved is 200 points. \n",
    "* Landing outside landing pad is possible. Fuel is infinite, so an agent can learn to fly and then land on its first attempt. Please see source code for details."
   ]
  },
  {
   "cell_type": "markdown",
   "metadata": {},
   "source": [
    "#### Use the following environments from OpenAI Gym:\n",
    "* LunarLander\n",
    "* CartPole\n",
    "* Acrobat\n",
    "* MountainCar"
   ]
  },
  {
   "cell_type": "code",
   "execution_count": 2,
   "metadata": {},
   "outputs": [
    {
     "name": "stdout",
     "output_type": "stream",
     "text": [
      "State shape:  (4,)\n",
      "Number of actions:  2\n"
     ]
    }
   ],
   "source": [
    "# LunarLander-v2 -> set the mean score value to >= 200 => good\n",
    "# env = gym.make('LunarLander-v2')\n",
    "\n",
    "# CartPole-v1 -> set the mean score value to >= 250 => works very good\n",
    "env = gym.make('CartPole-v1')\n",
    "\n",
    "# Acrobot-v1 -> set the mean score value to >= -110 => works very good\n",
    "# env = gym.make('Acrobot-v1')\n",
    "\n",
    "# Acrobot-v1 -> set the mean score value to >= -130 => works after about 4500 episodes and eps_decay=0.9995\n",
    "# env = gym.make('MountainCar-v0')\n",
    "\n",
    "env.seed(0)\n",
    "print('State shape: ', env.observation_space.shape)\n",
    "print('Number of actions: ', env.action_space.n)\n",
    "# print('State shape: ', env.observation_space.shape[0])\n",
    "\n",
    "obs_space_size = env.observation_space.shape[0]\n",
    "act_space_size = env.action_space.n"
   ]
  },
  {
   "cell_type": "markdown",
   "metadata": {},
   "source": [
    "The neural network architecture is defined in `model.py` that maps states to action values.\n",
    "\n",
    "The `Agent` class is defined in `dqn_agent.py` for `DQN` according to [`Mnih et al., 2015`](https://storage.googleapis.com/deepmind-media/dqn/DQNNaturePaper.pdf) and in `double-dqn-agent` for the Double-Deep-Q-Network according [`van Hasselt et al., 2015`](https://arxiv.org/pdf/1509.06461.pdf).  "
   ]
  },
  {
   "cell_type": "code",
   "execution_count": 3,
   "metadata": {},
   "outputs": [],
   "source": [
    "# Deep-Q-Network implementation\n",
    "# from dqn_agent import Agent\n",
    "\n",
    "# Doubl-Deep-Q-Network implementation\n",
    "from double_dqn_agent import Agent"
   ]
  },
  {
   "cell_type": "code",
   "execution_count": 4,
   "metadata": {},
   "outputs": [],
   "source": [
    "# agent = Agent(state_size=8, action_size=4, seed=0)\n",
    "agent = Agent(state_size=obs_space_size, action_size=act_space_size, seed=0)\n",
    "\n",
    "# watch an untrained agent\n",
    "state = env.reset()\n",
    "for j in range(200):\n",
    "    action = agent.act(state)\n",
    "#     print(action)\n",
    "    env.render()\n",
    "    time.sleep(0.05)\n",
    "    state, reward, done, _ = env.step(action)\n",
    "#     print('state', state)\n",
    "#     print('reward', reward)\n",
    "#     print('done', done)\n",
    "    if done:\n",
    "        break \n",
    "        \n",
    "env.close()"
   ]
  },
  {
   "cell_type": "markdown",
   "metadata": {},
   "source": [
    "### 3. Train the Agent with DQN\n",
    "\n",
    "Train the agent from scratch."
   ]
  },
  {
   "cell_type": "code",
   "execution_count": 5,
   "metadata": {},
   "outputs": [
    {
     "name": "stdout",
     "output_type": "stream",
     "text": [
      "Episode 100\tAverage Score: 21.61\n",
      "Episode 200\tAverage Score: 15.21\n",
      "Episode 300\tAverage Score: 14.95\n",
      "Episode 400\tAverage Score: 13.85\n",
      "Episode 500\tAverage Score: 13.34\n",
      "Episode 600\tAverage Score: 16.69\n",
      "Episode 700\tAverage Score: 20.71\n",
      "Episode 800\tAverage Score: 119.86\n",
      "Episode 888\tAverage Score: 200.75\n",
      "Environment solved in 788 episodes!\tAverage Score: 200.75\n"
     ]
    },
    {
     "data": {
      "image/png": "[encoded data removed]",
      "text/plain": [
       "<Figure size 432x288 with 1 Axes>"
      ]
     },
     "metadata": {
      "needs_background": "light"
     },
     "output_type": "display_data"
    }
   ],
   "source": [
    "def dqn(n_episodes=2000, max_t=1000, eps_start=1.0, eps_end=0.01, eps_decay=0.995):\n",
    "    \"\"\"Deep Q-Learning.\n",
    "    \n",
    "    Params\n",
    "    ======\n",
    "        n_episodes (int): maximum number of training episodes\n",
    "        max_t (int): maximum number of timesteps per episode\n",
    "        eps_start (float): starting value of epsilon, for epsilon-greedy action selection\n",
    "        eps_end (float): minimum value of epsilon\n",
    "        eps_decay (float): multiplicative factor (per episode) for decreasing epsilon\n",
    "    \"\"\"\n",
    "    scores = []                        # list containing scores from each episode\n",
    "    scores_window = deque(maxlen=100)  # last 100 scores\n",
    "    eps = eps_start                    # initialize epsilon\n",
    "    for i_episode in range(1, n_episodes+1):\n",
    "        state = env.reset()\n",
    "        score = 0\n",
    "        for t in range(max_t):\n",
    "            action = agent.act(state, eps)\n",
    "            next_state, reward, done, _ = env.step(action)\n",
    "            agent.step(state, action, reward, next_state, done)\n",
    "#             # return value(s) for debug purposes\n",
    "#             ret = agent.step(state, action, reward, next_state, done)\n",
    "#             if ret != None:\n",
    "#                 print(ret)\n",
    "            state = next_state\n",
    "            score += reward\n",
    "            if done:\n",
    "                break \n",
    "        scores_window.append(score)       # save most recent score\n",
    "        scores.append(score)              # save most recent score\n",
    "        eps = max(eps_end, eps_decay*eps) # decrease epsilon\n",
    "        print('\\rEpisode {}\\tAverage Score: {:.2f}'.format(i_episode, np.mean(scores_window)), end=\"\")\n",
    "        if i_episode % 100 == 0:\n",
    "            print('\\rEpisode {}\\tAverage Score: {:.2f}'.format(i_episode, np.mean(scores_window)))\n",
    "        if np.mean(scores_window)>= 200.0:\n",
    "            print('\\nEnvironment solved in {:d} episodes!\\tAverage Score: {:.2f}'.format(i_episode-100, np.mean(scores_window)))\n",
    "            torch.save(agent.qnetwork_local.state_dict(), 'checkpoint.pth')\n",
    "            break\n",
    "    return scores\n",
    "\n",
    "scores = dqn()\n",
    "\n",
    "# plot the scores\n",
    "fig = plt.figure()\n",
    "ax = fig.add_subplot(111)\n",
    "plt.plot(np.arange(len(scores)), scores)\n",
    "plt.ylabel('Score')\n",
    "plt.xlabel('Episode #')\n",
    "plt.show()"
   ]
  },
  {
   "cell_type": "markdown",
   "metadata": {},
   "source": [
    "### 4. Watch a Smart Agent!\n",
    "\n",
    "Load the trained weights from file to watch a smart agent!"
   ]
  },
  {
   "cell_type": "code",
   "execution_count": 6,
   "metadata": {},
   "outputs": [
    {
     "name": "stdout",
     "output_type": "stream",
     "text": [
      "Steps:  251\n",
      "Steps:  305\n",
      "Steps:  291\n",
      "Steps:  199\n",
      "Steps:  261\n"
     ]
    }
   ],
   "source": [
    "# load the weights from file\n",
    "agent.qnetwork_local.load_state_dict(torch.load('checkpoint.pth'))\n",
    "\n",
    "for i in range(5):\n",
    "    state = env.reset()\n",
    "    for j in range(400):\n",
    "        action = agent.act(state)\n",
    "#         print('action', action)\n",
    "        env.render()\n",
    "        time.sleep(0.05)\n",
    "        state, reward, done, _ = env.step(action)\n",
    "#         print('state', state)\n",
    "#         print('reward', reward)\n",
    "        if done:\n",
    "            print('Steps: ', j)\n",
    "            break \n",
    "            \n",
    "env.close()"
   ]
  },
  {
   "cell_type": "code",
   "execution_count": null,
   "metadata": {},
   "outputs": [],
   "source": []
  }
 ],
 "metadata": {
  "kernelspec": {
   "display_name": "Python 3",
   "language": "python",
   "name": "python3"
  },
  "language_info": {
   "codemirror_mode": {
    "name": "ipython",
    "version": 3
   },
   "file_extension": ".py",
   "mimetype": "text/x-python",
   "name": "python",
   "nbconvert_exporter": "python",
   "pygments_lexer": "ipython3",
   "version": "3.6.10"
  }
 },
 "nbformat": 4,
 "nbformat_minor": 2
}
